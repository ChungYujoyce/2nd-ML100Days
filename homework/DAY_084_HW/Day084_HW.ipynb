{
 "cells": [
  {
   "cell_type": "markdown",
   "metadata": {},
   "source": [
    "## Work\n",
    "### 請結合前面的知識與程式碼，比較不同的 regularization 的組合對訓練的結果與影響：如 dropout, regularizers, batch-normalization 等"
   ]
  },
  {
   "cell_type": "code",
   "execution_count": 1,
   "metadata": {},
   "outputs": [
    {
     "name": "stderr",
     "output_type": "stream",
     "text": [
      "Using TensorFlow backend.\n"
     ]
    }
   ],
   "source": [
    "import os\n",
    "import keras\n",
    "import itertools\n",
    "# Disable GPU\n",
    "os.environ[\"CUDA_VISIBLE_DEVICES\"] = \"\""
   ]
  },
  {
   "cell_type": "code",
   "execution_count": 2,
   "metadata": {},
   "outputs": [],
   "source": [
    "train, test = keras.datasets.cifar10.load_data()"
   ]
  },
  {
   "cell_type": "code",
   "execution_count": 3,
   "metadata": {},
   "outputs": [],
   "source": [
    "## 資料前處理\n",
    "def preproc_x(x, flatten=True):\n",
    "    x = x / 255.\n",
    "    if flatten:\n",
    "        x = x.reshape((len(x), -1))\n",
    "    return x\n",
    "\n",
    "def preproc_y(y, num_classes=10):\n",
    "    if y.shape[-1] == 1:\n",
    "        y = keras.utils.to_categorical(y, num_classes)\n",
    "    return y    "
   ]
  },
  {
   "cell_type": "code",
   "execution_count": 4,
   "metadata": {},
   "outputs": [],
   "source": [
    "x_train, y_train = train\n",
    "x_test, y_test = test\n",
    "\n",
    "# Preproc the inputs\n",
    "x_train = preproc_x(x_train)\n",
    "x_test = preproc_x(x_test)\n",
    "\n",
    "# Preprc the outputs\n",
    "y_train = preproc_y(y_train)\n",
    "y_test = preproc_y(y_test)"
   ]
  },
  {
   "cell_type": "code",
   "execution_count": 15,
   "metadata": {},
   "outputs": [],
   "source": [
    "from keras.regularizers import l1, l2, l1_l2\n",
    "from keras.layers import BatchNormalization\n",
    "from keras.layers import Dropout\n",
    "\n",
    "def build_mlp(input_shape, output_units=10, num_neurons=[512, 256, 128] ,drp_ratio=0.2 ,l2_ratio=1e-4):\n",
    "    input_layer = keras.layers.Input(input_shape)\n",
    "    \n",
    "    for i, n_units in enumerate(num_neurons):\n",
    "        if i == 0:\n",
    "            x = keras.layers.Dense(units=n_units, \n",
    "                                   activation=\"relu\", \n",
    "                                   name=\"hidden_layer\"+str(i+1),\n",
    "                                  kernel_regularizer=l2(l2_ratio))(input_layer)\n",
    "            x = BatchNormalization()(x)\n",
    "            x = Dropout(drp_ratio)(x)\n",
    "        else:\n",
    "            x = keras.layers.Dense(units=n_units, \n",
    "                                   activation=\"relu\", \n",
    "                                   name=\"hidden_layer\"+str(i+1),\n",
    "                                  kernel_regularizer=l2(l2_ratio))(x)\n",
    "            x = BatchNormalization()(x)\n",
    "            x = Dropout(drp_ratio)(x)\n",
    "    \n",
    "    out = keras.layers.Dense(units=output_units, activation=\"softmax\", name=\"output\")(x)\n",
    "    \n",
    "    model = keras.models.Model(inputs=[input_layer], outputs=[out])\n",
    "    return model"
   ]
  },
  {
   "cell_type": "code",
   "execution_count": 16,
   "metadata": {},
   "outputs": [],
   "source": [
    "LEARNING_RATE = 1e-3\n",
    "EPOCHS = 50\n",
    "BATCH_SIZE = 256\n",
    "MOMENTUM = 0.95\n",
    "L2_EXP = [1e-2, 1e-4, 1e-8, 1e-12]\n",
    "Dropout_EXP = 0.25\n",
    "MOMENTUM = 0.95"
   ]
  },
  {
   "cell_type": "code",
   "execution_count": 17,
   "metadata": {
    "scrolled": true
   },
   "outputs": [
    {
     "name": "stdout",
     "output_type": "stream",
     "text": [
      "WARNING:tensorflow:From C:\\Users\\USER\\Anaconda3\\lib\\site-packages\\keras\\backend\\tensorflow_backend.py:3445: calling dropout (from tensorflow.python.ops.nn_ops) with keep_prob is deprecated and will be removed in a future version.\n",
      "Instructions for updating:\n",
      "Please use `rate` instead of `keep_prob`. Rate should be set to `rate = 1 - keep_prob`.\n",
      "_________________________________________________________________\n",
      "Layer (type)                 Output Shape              Param #   \n",
      "=================================================================\n",
      "input_5 (InputLayer)         (None, 3072)              0         \n",
      "_________________________________________________________________\n",
      "hidden_layer1 (Dense)        (None, 512)               1573376   \n",
      "_________________________________________________________________\n",
      "batch_normalization_2 (Batch (None, 512)               2048      \n",
      "_________________________________________________________________\n",
      "dropout_1 (Dropout)          (None, 512)               0         \n",
      "_________________________________________________________________\n",
      "hidden_layer2 (Dense)        (None, 256)               131328    \n",
      "_________________________________________________________________\n",
      "batch_normalization_3 (Batch (None, 256)               1024      \n",
      "_________________________________________________________________\n",
      "dropout_2 (Dropout)          (None, 256)               0         \n",
      "_________________________________________________________________\n",
      "hidden_layer3 (Dense)        (None, 128)               32896     \n",
      "_________________________________________________________________\n",
      "batch_normalization_4 (Batch (None, 128)               512       \n",
      "_________________________________________________________________\n",
      "dropout_3 (Dropout)          (None, 128)               0         \n",
      "_________________________________________________________________\n",
      "output (Dense)               (None, 10)                1290      \n",
      "=================================================================\n",
      "Total params: 1,742,474\n",
      "Trainable params: 1,740,682\n",
      "Non-trainable params: 1,792\n",
      "_________________________________________________________________\n",
      "WARNING:tensorflow:From C:\\Users\\USER\\Anaconda3\\lib\\site-packages\\tensorflow\\python\\ops\\math_ops.py:3066: to_int32 (from tensorflow.python.ops.math_ops) is deprecated and will be removed in a future version.\n",
      "Instructions for updating:\n",
      "Use tf.cast instead.\n",
      "Train on 50000 samples, validate on 10000 samples\n",
      "Epoch 1/50\n",
      "50000/50000 [==============================] - 15s 308us/step - loss: 2.2436 - acc: 0.2692 - val_loss: 1.7620 - val_acc: 0.3761\n",
      "Epoch 2/50\n",
      "50000/50000 [==============================] - 12s 249us/step - loss: 1.8699 - acc: 0.3467 - val_loss: 1.6757 - val_acc: 0.4003\n",
      "Epoch 3/50\n",
      "50000/50000 [==============================] - 13s 256us/step - loss: 1.7576 - acc: 0.3789 - val_loss: 1.5963 - val_acc: 0.4279\n",
      "Epoch 4/50\n",
      "50000/50000 [==============================] - 14s 272us/step - loss: 1.6877 - acc: 0.3999 - val_loss: 1.5697 - val_acc: 0.4401\n",
      "Epoch 5/50\n",
      "50000/50000 [==============================] - 14s 283us/step - loss: 1.6449 - acc: 0.4143 - val_loss: 1.5375 - val_acc: 0.4556loss: 1.6472 - ac - E\n",
      "Epoch 6/50\n",
      "50000/50000 [==============================] - 13s 267us/step - loss: 1.6141 - acc: 0.4235 - val_loss: 1.5174 - val_acc: 0.4651\n",
      "Epoch 7/50\n",
      "50000/50000 [==============================] - 13s 254us/step - loss: 1.5857 - acc: 0.4337 - val_loss: 1.4975 - val_acc: 0.4669\n",
      "Epoch 8/50\n",
      "50000/50000 [==============================] - 14s 274us/step - loss: 1.5646 - acc: 0.4422 - val_loss: 1.4806 - val_acc: 0.4738\n",
      "Epoch 9/50\n",
      "50000/50000 [==============================] - 14s 283us/step - loss: 1.5471 - acc: 0.4497 - val_loss: 1.4684 - val_acc: 0.4782\n",
      "Epoch 10/50\n",
      "50000/50000 [==============================] - 13s 267us/step - loss: 1.5256 - acc: 0.4541 - val_loss: 1.4974 - val_acc: 0.4652\n",
      "Epoch 11/50\n",
      "50000/50000 [==============================] - 14s 275us/step - loss: 1.5077 - acc: 0.4592 - val_loss: 1.4586 - val_acc: 0.4771\n",
      "Epoch 12/50\n",
      "50000/50000 [==============================] - 13s 253us/step - loss: 1.4989 - acc: 0.4665 - val_loss: 1.4478 - val_acc: 0.4818\n",
      "Epoch 13/50\n",
      "50000/50000 [==============================] - 12s 234us/step - loss: 1.4872 - acc: 0.4678 - val_loss: 1.4707 - val_acc: 0.4718\n",
      "Epoch 14/50\n",
      "50000/50000 [==============================] - 12s 234us/step - loss: 1.4727 - acc: 0.4733 - val_loss: 1.4122 - val_acc: 0.4946\n",
      "Epoch 15/50\n",
      "50000/50000 [==============================] - 12s 233us/step - loss: 1.4591 - acc: 0.4762 - val_loss: 1.4374 - val_acc: 0.4874\n",
      "Epoch 16/50\n",
      "50000/50000 [==============================] - 12s 237us/step - loss: 1.4493 - acc: 0.4840 - val_loss: 1.4146 - val_acc: 0.4952\n",
      "Epoch 17/50\n",
      "50000/50000 [==============================] - 12s 233us/step - loss: 1.4448 - acc: 0.4832 - val_loss: 1.4197 - val_acc: 0.4901\n",
      "Epoch 18/50\n",
      "50000/50000 [==============================] - 12s 233us/step - loss: 1.4278 - acc: 0.4902 - val_loss: 1.4105 - val_acc: 0.4961\n",
      "Epoch 19/50\n",
      "50000/50000 [==============================] - 13s 265us/step - loss: 1.4188 - acc: 0.4930 - val_loss: 1.3951 - val_acc: 0.5054\n",
      "Epoch 20/50\n",
      "50000/50000 [==============================] - 14s 278us/step - loss: 1.4123 - acc: 0.4921 - val_loss: 1.3833 - val_acc: 0.5068\n",
      "Epoch 21/50\n",
      "50000/50000 [==============================] - 15s 291us/step - loss: 1.4032 - acc: 0.4992 - val_loss: 1.4026 - val_acc: 0.4984\n",
      "Epoch 22/50\n",
      "50000/50000 [==============================] - 12s 246us/step - loss: 1.3995 - acc: 0.5006 - val_loss: 1.4066 - val_acc: 0.4998\n",
      "Epoch 23/50\n",
      "50000/50000 [==============================] - 14s 271us/step - loss: 1.3867 - acc: 0.5033 - val_loss: 1.3868 - val_acc: 0.5124\n",
      "Epoch 24/50\n",
      "50000/50000 [==============================] - 13s 269us/step - loss: 1.3854 - acc: 0.5030 - val_loss: 1.3871 - val_acc: 0.5092\n",
      "Epoch 25/50\n",
      "50000/50000 [==============================] - 14s 275us/step - loss: 1.3829 - acc: 0.5032 - val_loss: 1.3927 - val_acc: 0.5076\n",
      "Epoch 26/50\n",
      "50000/50000 [==============================] - 13s 262us/step - loss: 1.3764 - acc: 0.5077 - val_loss: 1.3882 - val_acc: 0.5039\n",
      "Epoch 27/50\n",
      "50000/50000 [==============================] - 12s 245us/step - loss: 1.3698 - acc: 0.5102 - val_loss: 1.3616 - val_acc: 0.5181\n",
      "Epoch 28/50\n",
      "50000/50000 [==============================] - 13s 259us/step - loss: 1.3700 - acc: 0.5112 - val_loss: 1.3941 - val_acc: 0.4971\n",
      "Epoch 29/50\n",
      "50000/50000 [==============================] - 12s 249us/step - loss: 1.3640 - acc: 0.5111 - val_loss: 1.3768 - val_acc: 0.5072\n",
      "Epoch 30/50\n",
      "50000/50000 [==============================] - 12s 236us/step - loss: 1.3675 - acc: 0.5122 - val_loss: 1.4015 - val_acc: 0.4993\n",
      "Epoch 31/50\n",
      "50000/50000 [==============================] - 12s 235us/step - loss: 1.3554 - acc: 0.5160 - val_loss: 1.3990 - val_acc: 0.4994\n",
      "Epoch 32/50\n",
      "50000/50000 [==============================] - 12s 233us/step - loss: 1.3424 - acc: 0.5183 - val_loss: 1.3659 - val_acc: 0.5126\n",
      "Epoch 33/50\n",
      "50000/50000 [==============================] - 12s 232us/step - loss: 1.3491 - acc: 0.5163 - val_loss: 1.4674 - val_acc: 0.4730\n",
      "Epoch 34/50\n",
      "50000/50000 [==============================] - 12s 233us/step - loss: 1.3388 - acc: 0.5204 - val_loss: 1.3697 - val_acc: 0.5122\n",
      "Epoch 35/50\n",
      "50000/50000 [==============================] - 12s 233us/step - loss: 1.3373 - acc: 0.5192 - val_loss: 1.4021 - val_acc: 0.5038\n",
      "Epoch 36/50\n",
      "50000/50000 [==============================] - 12s 234us/step - loss: 1.3251 - acc: 0.5250 - val_loss: 1.3657 - val_acc: 0.5160\n",
      "Epoch 37/50\n",
      "50000/50000 [==============================] - 12s 234us/step - loss: 1.3243 - acc: 0.5246 - val_loss: 1.3435 - val_acc: 0.5199\n",
      "Epoch 38/50\n",
      "50000/50000 [==============================] - 12s 235us/step - loss: 1.3166 - acc: 0.5264 - val_loss: 1.4095 - val_acc: 0.5015\n",
      "Epoch 39/50\n",
      "50000/50000 [==============================] - 12s 233us/step - loss: 1.3144 - acc: 0.5289 - val_loss: 1.3536 - val_acc: 0.5224\n",
      "Epoch 40/50\n",
      "50000/50000 [==============================] - 12s 235us/step - loss: 1.3084 - acc: 0.5307 - val_loss: 1.3559 - val_acc: 0.5180\n",
      "Epoch 41/50\n",
      "50000/50000 [==============================] - 12s 233us/step - loss: 1.3017 - acc: 0.5339 - val_loss: 1.3522 - val_acc: 0.5208\n"
     ]
    },
    {
     "name": "stdout",
     "output_type": "stream",
     "text": [
      "Epoch 42/50\n",
      "50000/50000 [==============================] - 12s 233us/step - loss: 1.3002 - acc: 0.5340 - val_loss: 1.3424 - val_acc: 0.5203\n",
      "Epoch 43/50\n",
      "50000/50000 [==============================] - 12s 233us/step - loss: 1.3006 - acc: 0.5336 - val_loss: 1.3460 - val_acc: 0.5180\n",
      "Epoch 44/50\n",
      "50000/50000 [==============================] - 12s 232us/step - loss: 1.3053 - acc: 0.5331 - val_loss: 1.3441 - val_acc: 0.5189\n",
      "Epoch 45/50\n",
      "50000/50000 [==============================] - 12s 233us/step - loss: 1.2941 - acc: 0.5353 - val_loss: 1.3545 - val_acc: 0.5137\n",
      "Epoch 46/50\n",
      "50000/50000 [==============================] - 12s 235us/step - loss: 1.2905 - acc: 0.5351 - val_loss: 1.3521 - val_acc: 0.5212\n",
      "Epoch 47/50\n",
      "50000/50000 [==============================] - 12s 234us/step - loss: 1.2815 - acc: 0.5400 - val_loss: 1.3305 - val_acc: 0.5263\n",
      "Epoch 48/50\n",
      "50000/50000 [==============================] - 12s 232us/step - loss: 1.2761 - acc: 0.5402 - val_loss: 1.3205 - val_acc: 0.5319\n",
      "Epoch 49/50\n",
      "50000/50000 [==============================] - 12s 247us/step - loss: 1.2704 - acc: 0.5438 - val_loss: 1.3537 - val_acc: 0.5174\n",
      "Epoch 50/50\n",
      "50000/50000 [==============================] - 12s 236us/step - loss: 1.2650 - acc: 0.5478 - val_loss: 1.3267 - val_acc: 0.5245\n"
     ]
    }
   ],
   "source": [
    "results = {}\n",
    "model = build_mlp(input_shape=x_train.shape[1:], drp_ratio=Dropout_EXP,l2_ratio=1e-12)\n",
    "model.summary()\n",
    "optimizer = keras.optimizers.SGD(lr=LEARNING_RATE, nesterov=True, momentum=MOMENTUM)\n",
    "model.compile(loss=\"categorical_crossentropy\", metrics=[\"accuracy\"], optimizer=optimizer)\n",
    "\n",
    "model.fit(x_train, y_train, \n",
    "          epochs=EPOCHS, \n",
    "          batch_size=BATCH_SIZE, \n",
    "          validation_data=(x_test, y_test), \n",
    "          shuffle=True)\n",
    "\n",
    "# Collect results\n",
    "train_loss = model.history.history[\"loss\"]\n",
    "valid_loss = model.history.history[\"val_loss\"]\n",
    "train_acc = model.history.history[\"acc\"]\n",
    "valid_acc = model.history.history[\"val_acc\"]"
   ]
  },
  {
   "cell_type": "code",
   "execution_count": 18,
   "metadata": {},
   "outputs": [
    {
     "data": {
      "image/png": "[encoded data removed]",
      "text/plain": [
       "<Figure size 432x288 with 1 Axes>"
      ]
     },
     "metadata": {
      "needs_background": "light"
     },
     "output_type": "display_data"
    },
    {
     "data": {
      "image/png": "[encoded data removed]",
      "text/plain": [
       "<Figure size 432x288 with 1 Axes>"
      ]
     },
     "metadata": {
      "needs_background": "light"
     },
     "output_type": "display_data"
    }
   ],
   "source": [
    "import matplotlib.pyplot as plt\n",
    "%matplotlib inline\n",
    "\n",
    "plt.plot(range(len(train_loss)), train_loss, label=\"train loss\")\n",
    "plt.plot(range(len(valid_loss)), valid_loss, label=\"valid loss\")\n",
    "plt.legend()\n",
    "plt.title(\"Loss\")\n",
    "plt.show()\n",
    "\n",
    "plt.plot(range(len(train_acc)), train_acc, label=\"train accuracy\")\n",
    "plt.plot(range(len(valid_acc)), valid_acc, label=\"valid accuracy\")\n",
    "plt.legend()\n",
    "plt.title(\"Accuracy\")\n",
    "plt.show()"
   ]
  },
  {
   "cell_type": "code",
   "execution_count": null,
   "metadata": {},
   "outputs": [],
   "source": []
  }
 ],
 "metadata": {
  "kernelspec": {
   "display_name": "Python 3",
   "language": "python",
   "name": "python3"
  },
  "language_info": {
   "codemirror_mode": {
    "name": "ipython",
    "version": 3
   },
   "file_extension": ".py",
   "mimetype": "text/x-python",
   "name": "python",
   "nbconvert_exporter": "python",
   "pygments_lexer": "ipython3",
   "version": "3.7.3"
  }
 },
 "nbformat": 4,
 "nbformat_minor": 2
}
