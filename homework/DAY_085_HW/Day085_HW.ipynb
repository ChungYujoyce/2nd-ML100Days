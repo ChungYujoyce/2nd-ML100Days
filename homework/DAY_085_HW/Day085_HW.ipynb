{
 "cells": [
  {
   "cell_type": "markdown",
   "metadata": {},
   "source": [
    "## Work\n",
    "1. 試改變 monitor \"Validation Accuracy\" 並比較結果\n",
    "2. 調整 earlystop 的等待次數至 10, 25 並比較結果"
   ]
  },
  {
   "cell_type": "code",
   "execution_count": 1,
   "metadata": {},
   "outputs": [
    {
     "name": "stderr",
     "output_type": "stream",
     "text": [
      "Using TensorFlow backend.\n"
     ]
    }
   ],
   "source": [
    "import os\n",
    "import keras\n",
    "import matplotlib.pyplot as plt\n",
    "%matplotlib inline\n",
    "\n",
    "\n",
    "# Disable GPU\n",
    "os.environ[\"CUDA_VISIBLE_DEVICES\"] = \"\""
   ]
  },
  {
   "cell_type": "code",
   "execution_count": 2,
   "metadata": {},
   "outputs": [],
   "source": [
    "train, test = keras.datasets.cifar10.load_data()"
   ]
  },
  {
   "cell_type": "code",
   "execution_count": 3,
   "metadata": {},
   "outputs": [],
   "source": [
    "## 資料前處理\n",
    "def preproc_x(x, flatten=True):\n",
    "    x = x / 255.\n",
    "    if flatten:\n",
    "        x = x.reshape((len(x), -1))\n",
    "    return x\n",
    "\n",
    "def preproc_y(y, num_classes=10):\n",
    "    if y.shape[-1] == 1:\n",
    "        y = keras.utils.to_categorical(y, num_classes)\n",
    "    return y    "
   ]
  },
  {
   "cell_type": "code",
   "execution_count": 4,
   "metadata": {},
   "outputs": [],
   "source": [
    "x_train, y_train = train\n",
    "x_test, y_test = test\n",
    "\n",
    "# Preproc the inputs\n",
    "x_train = preproc_x(x_train)\n",
    "x_test = preproc_x(x_test)\n",
    "\n",
    "# Preprc the outputs\n",
    "y_train = preproc_y(y_train)\n",
    "y_test = preproc_y(y_test)"
   ]
  },
  {
   "cell_type": "code",
   "execution_count": 5,
   "metadata": {},
   "outputs": [],
   "source": [
    "from keras.layers import BatchNormalization\n",
    "\n",
    "def build_mlp(input_shape, output_units=10, num_neurons=[512, 256, 128]):\n",
    "    input_layer = keras.layers.Input(input_shape)\n",
    "    \n",
    "    for i, n_units in enumerate(num_neurons):\n",
    "        if i == 0:\n",
    "            x = keras.layers.Dense(units=n_units, \n",
    "                                   activation=\"relu\", \n",
    "                                   name=\"hidden_layer\"+str(i+1))(input_layer)\n",
    "            x = BatchNormalization()(x)\n",
    "        else:\n",
    "            x = keras.layers.Dense(units=n_units, \n",
    "                                   activation=\"relu\", \n",
    "                                   name=\"hidden_layer\"+str(i+1))(x)\n",
    "            x = BatchNormalization()(x)\n",
    "    \n",
    "    out = keras.layers.Dense(units=output_units, activation=\"softmax\", name=\"output\")(x)\n",
    "    \n",
    "    model = keras.models.Model(inputs=[input_layer], outputs=[out])\n",
    "    return model"
   ]
  },
  {
   "cell_type": "code",
   "execution_count": 6,
   "metadata": {},
   "outputs": [],
   "source": [
    "LEARNING_RATE = 1e-3\n",
    "EPOCHS = 50\n",
    "BATCH_SIZE = 1024\n",
    "MOMENTUM = 0.95"
   ]
  },
  {
   "cell_type": "code",
   "execution_count": 7,
   "metadata": {},
   "outputs": [
    {
     "name": "stdout",
     "output_type": "stream",
     "text": [
      "WARNING:tensorflow:From C:\\Users\\USER\\Anaconda3\\lib\\site-packages\\tensorflow\\python\\framework\\op_def_library.py:263: colocate_with (from tensorflow.python.framework.ops) is deprecated and will be removed in a future version.\n",
      "Instructions for updating:\n",
      "Colocations handled automatically by placer.\n",
      "_________________________________________________________________\n",
      "Layer (type)                 Output Shape              Param #   \n",
      "=================================================================\n",
      "input_1 (InputLayer)         (None, 3072)              0         \n",
      "_________________________________________________________________\n",
      "hidden_layer1 (Dense)        (None, 512)               1573376   \n",
      "_________________________________________________________________\n",
      "batch_normalization_1 (Batch (None, 512)               2048      \n",
      "_________________________________________________________________\n",
      "hidden_layer2 (Dense)        (None, 256)               131328    \n",
      "_________________________________________________________________\n",
      "batch_normalization_2 (Batch (None, 256)               1024      \n",
      "_________________________________________________________________\n",
      "hidden_layer3 (Dense)        (None, 128)               32896     \n",
      "_________________________________________________________________\n",
      "batch_normalization_3 (Batch (None, 128)               512       \n",
      "_________________________________________________________________\n",
      "output (Dense)               (None, 10)                1290      \n",
      "=================================================================\n",
      "Total params: 1,742,474\n",
      "Trainable params: 1,740,682\n",
      "Non-trainable params: 1,792\n",
      "_________________________________________________________________\n",
      "WARNING:tensorflow:From C:\\Users\\USER\\Anaconda3\\lib\\site-packages\\tensorflow\\python\\ops\\math_ops.py:3066: to_int32 (from tensorflow.python.ops.math_ops) is deprecated and will be removed in a future version.\n",
      "Instructions for updating:\n",
      "Use tf.cast instead.\n",
      "Train on 50000 samples, validate on 10000 samples\n",
      "Epoch 1/50\n",
      "50000/50000 [==============================] - 9s 187us/step - loss: 2.2216 - acc: 0.2680 - val_loss: 2.1456 - val_acc: 0.3113\n",
      "Epoch 2/50\n",
      "50000/50000 [==============================] - 9s 176us/step - loss: 1.7442 - acc: 0.3933 - val_loss: 1.7757 - val_acc: 0.3822\n",
      "Epoch 3/50\n",
      "50000/50000 [==============================] - 8s 167us/step - loss: 1.6167 - acc: 0.4340 - val_loss: 1.7043 - val_acc: 0.4051\n",
      "Epoch 4/50\n",
      "50000/50000 [==============================] - 9s 170us/step - loss: 1.5440 - acc: 0.4585 - val_loss: 1.6223 - val_acc: 0.4246\n",
      "Epoch 5/50\n",
      "50000/50000 [==============================] - 10s 196us/step - loss: 1.4888 - acc: 0.4772 - val_loss: 1.5807 - val_acc: 0.4414\n",
      "Epoch 6/50\n",
      "50000/50000 [==============================] - 9s 170us/step - loss: 1.4432 - acc: 0.4944 - val_loss: 1.5562 - val_acc: 0.4499\n",
      "Epoch 7/50\n",
      "50000/50000 [==============================] - 8s 168us/step - loss: 1.4037 - acc: 0.5098 - val_loss: 1.5488 - val_acc: 0.4553\n",
      "Epoch 8/50\n",
      "50000/50000 [==============================] - 9s 178us/step - loss: 1.3704 - acc: 0.5199 - val_loss: 1.5257 - val_acc: 0.4594\n",
      "Epoch 9/50\n",
      "50000/50000 [==============================] - 9s 187us/step - loss: 1.3384 - acc: 0.5329 - val_loss: 1.5153 - val_acc: 0.4646\n",
      "Epoch 10/50\n",
      "50000/50000 [==============================] - 9s 170us/step - loss: 1.3104 - acc: 0.5443 - val_loss: 1.5030 - val_acc: 0.4690\n",
      "Epoch 11/50\n",
      "50000/50000 [==============================] - 9s 177us/step - loss: 1.2820 - acc: 0.5545 - val_loss: 1.4796 - val_acc: 0.4758\n",
      "Epoch 12/50\n",
      "50000/50000 [==============================] - 9s 171us/step - loss: 1.2553 - acc: 0.5653 - val_loss: 1.4754 - val_acc: 0.4771\n",
      "Epoch 13/50\n",
      "50000/50000 [==============================] - 11s 220us/step - loss: 1.2302 - acc: 0.5747 - val_loss: 1.4750 - val_acc: 0.4792\n",
      "Epoch 14/50\n",
      "50000/50000 [==============================] - 9s 178us/step - loss: 1.2065 - acc: 0.5828 - val_loss: 1.4675 - val_acc: 0.4800\n",
      "Epoch 15/50\n",
      "50000/50000 [==============================] - 9s 178us/step - loss: 1.1821 - acc: 0.5924 - val_loss: 1.4562 - val_acc: 0.4867\n",
      "Epoch 16/50\n",
      "50000/50000 [==============================] - 9s 175us/step - loss: 1.1599 - acc: 0.6002 - val_loss: 1.4712 - val_acc: 0.4830\n",
      "Epoch 17/50\n",
      "50000/50000 [==============================] - 9s 183us/step - loss: 1.1377 - acc: 0.6086 - val_loss: 1.4524 - val_acc: 0.4851\n",
      "Epoch 18/50\n",
      "50000/50000 [==============================] - 9s 181us/step - loss: 1.1153 - acc: 0.6185 - val_loss: 1.4522 - val_acc: 0.4934\n",
      "Epoch 19/50\n",
      "50000/50000 [==============================] - 9s 183us/step - loss: 1.0934 - acc: 0.6238 - val_loss: 1.4508 - val_acc: 0.4868\n",
      "Epoch 20/50\n",
      "50000/50000 [==============================] - 9s 170us/step - loss: 1.0721 - acc: 0.6335 - val_loss: 1.4446 - val_acc: 0.4954\n",
      "Epoch 21/50\n",
      "50000/50000 [==============================] - 9s 177us/step - loss: 1.0520 - acc: 0.6412 - val_loss: 1.4540 - val_acc: 0.4896\n",
      "Epoch 22/50\n",
      "50000/50000 [==============================] - 9s 173us/step - loss: 1.0307 - acc: 0.6498 - val_loss: 1.4621 - val_acc: 0.4895\n",
      "Epoch 23/50\n",
      "50000/50000 [==============================] - 11s 226us/step - loss: 1.0093 - acc: 0.6578 - val_loss: 1.4608 - val_acc: 0.4904\n",
      "Epoch 24/50\n",
      "50000/50000 [==============================] - 9s 180us/step - loss: 0.9902 - acc: 0.6655 - val_loss: 1.4539 - val_acc: 0.4973\n",
      "Epoch 25/50\n",
      "50000/50000 [==============================] - 9s 181us/step - loss: 0.9683 - acc: 0.6731 - val_loss: 1.4582 - val_acc: 0.4895\n",
      "Epoch 26/50\n",
      "50000/50000 [==============================] - 8s 165us/step - loss: 0.9486 - acc: 0.6796 - val_loss: 1.4593 - val_acc: 0.4938\n",
      "Epoch 27/50\n",
      "50000/50000 [==============================] - 9s 173us/step - loss: 0.9292 - acc: 0.6880 - val_loss: 1.4714 - val_acc: 0.4957\n",
      "Epoch 28/50\n",
      "50000/50000 [==============================] - 9s 181us/step - loss: 0.9081 - acc: 0.6965 - val_loss: 1.4731 - val_acc: 0.4914\n",
      "Epoch 29/50\n",
      "50000/50000 [==============================] - 8s 167us/step - loss: 0.8878 - acc: 0.7051 - val_loss: 1.4851 - val_acc: 0.4959\n",
      "Epoch 30/50\n",
      "50000/50000 [==============================] - 8s 158us/step - loss: 0.8668 - acc: 0.7115 - val_loss: 1.4816 - val_acc: 0.4924\n",
      "Epoch 00030: early stopping\n"
     ]
    }
   ],
   "source": [
    "# 載入 Callbacks\n",
    "\"\"\"Code Here\n",
    "設定 callbacks: Earlystop\n",
    "\"\"\"\n",
    "from keras.callbacks import EarlyStopping\n",
    "\n",
    "earlystop = EarlyStopping(monitor=\"val_loss\", \n",
    "                          patience=10, \n",
    "                          verbose=1\n",
    "                          )\n",
    "results = {}\n",
    "model = build_mlp(input_shape=x_train.shape[1:])\n",
    "model.summary()\n",
    "optimizer = keras.optimizers.SGD(lr=LEARNING_RATE, nesterov=True, momentum=MOMENTUM)\n",
    "model.compile(loss=\"categorical_crossentropy\", metrics=[\"accuracy\"], optimizer=optimizer)\n",
    "\n",
    "model.fit(x_train, y_train, \n",
    "          epochs=EPOCHS, \n",
    "          batch_size=BATCH_SIZE, \n",
    "          validation_data=(x_test, y_test), \n",
    "          shuffle=True,\n",
    "          callbacks=[earlystop]\n",
    "         )\n",
    "\n",
    "# Collect results\n",
    "train_loss = model.history.history[\"loss\"]\n",
    "valid_loss = model.history.history[\"val_loss\"]\n",
    "train_acc = model.history.history[\"acc\"]\n",
    "valid_acc = model.history.history[\"val_acc\"]"
   ]
  },
  {
   "cell_type": "code",
   "execution_count": 8,
   "metadata": {},
   "outputs": [
    {
     "data": {
      "image/png": "[encoded data removed]",
      "text/plain": [
       "<Figure size 432x288 with 1 Axes>"
      ]
     },
     "metadata": {
      "needs_background": "light"
     },
     "output_type": "display_data"
    },
    {
     "data": {
      "image/png": "[encoded data removed]",
      "text/plain": [
       "<Figure size 432x288 with 1 Axes>"
      ]
     },
     "metadata": {
      "needs_background": "light"
     },
     "output_type": "display_data"
    }
   ],
   "source": [
    "import matplotlib.pyplot as plt\n",
    "%matplotlib inline\n",
    "\n",
    "plt.plot(range(len(train_loss)), train_loss, label=\"train loss\")\n",
    "plt.plot(range(len(valid_loss)), valid_loss, label=\"valid loss\")\n",
    "plt.legend()\n",
    "plt.title(\"Loss\")\n",
    "plt.show()\n",
    "\n",
    "plt.plot(range(len(train_acc)), train_acc, label=\"train accuracy\")\n",
    "plt.plot(range(len(valid_acc)), valid_acc, label=\"valid accuracy\")\n",
    "plt.legend()\n",
    "plt.title(\"Accuracy\")\n",
    "plt.show()"
   ]
  }
 ],
 "metadata": {
  "kernelspec": {
   "display_name": "Python 3",
   "language": "python",
   "name": "python3"
  },
  "language_info": {
   "codemirror_mode": {
    "name": "ipython",
    "version": 3
   },
   "file_extension": ".py",
   "mimetype": "text/x-python",
   "name": "python",
   "nbconvert_exporter": "python",
   "pygments_lexer": "ipython3",
   "version": "3.7.3"
  }
 },
 "nbformat": 4,
 "nbformat_minor": 2
}
