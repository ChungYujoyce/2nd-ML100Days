{
 "cells": [
  {
   "cell_type": "markdown",
   "metadata": {},
   "source": [
    "## Work\n",
    "1. 試比較有 BN 在 Batch_size = 2, 16, 32, 128, 256 下的差異\n",
    "2. 請嘗試將 BN 放在 Activation 之前，並比較訓練結果\n",
    "3. 請於 BN 放在 Input Layer 後，並比較結果"
   ]
  },
  {
   "cell_type": "code",
   "execution_count": 1,
   "metadata": {},
   "outputs": [
    {
     "name": "stderr",
     "output_type": "stream",
     "text": [
      "Using TensorFlow backend.\n"
     ]
    }
   ],
   "source": [
    "import os\n",
    "import keras\n",
    "import itertools\n",
    "# Disable GPU\n",
    "os.environ[\"CUDA_VISIBLE_DEVICES\"] = \"\""
   ]
  },
  {
   "cell_type": "code",
   "execution_count": 2,
   "metadata": {},
   "outputs": [],
   "source": [
    "train, test = keras.datasets.cifar10.load_data()"
   ]
  },
  {
   "cell_type": "code",
   "execution_count": 3,
   "metadata": {},
   "outputs": [],
   "source": [
    "## 資料前處理\n",
    "def preproc_x(x, flatten=True):\n",
    "    x = x / 255.\n",
    "    if flatten:\n",
    "        x = x.reshape((len(x), -1))\n",
    "    return x\n",
    "\n",
    "def preproc_y(y, num_classes=10):\n",
    "    if y.shape[-1] == 1:\n",
    "        y = keras.utils.to_categorical(y, num_classes)\n",
    "    return y    "
   ]
  },
  {
   "cell_type": "code",
   "execution_count": 4,
   "metadata": {},
   "outputs": [],
   "source": [
    "x_train, y_train = train\n",
    "x_test, y_test = test\n",
    "\n",
    "# Preproc the inputs\n",
    "x_train = preproc_x(x_train)\n",
    "x_test = preproc_x(x_test)\n",
    "\n",
    "# Preprc the outputs\n",
    "y_train = preproc_y(y_train)\n",
    "y_test = preproc_y(y_test)"
   ]
  },
  {
   "cell_type": "code",
   "execution_count": 8,
   "metadata": {},
   "outputs": [],
   "source": [
    "from keras.layers import BatchNormalization\n",
    "\n",
    "\"\"\"\n",
    "建立神經網路，並加入 BN layer\n",
    "\"\"\"\n",
    "def build_mlp(input_shape, output_units=10, num_neurons=[512, 256, 128]):\n",
    "    input_layer = keras.layers.Input(input_shape)\n",
    "    \n",
    "    for i, n_units in enumerate(num_neurons):\n",
    "        if i == 0:\n",
    "            x = keras.layers.Dense(units=n_units, \n",
    "                                   activation=\"relu\", \n",
    "                                   name=\"hidden_layer\"+str(i+1))(input_layer)\n",
    "            x = BatchNormalization()(x)\n",
    "        else:\n",
    "            x = keras.layers.Dense(units=n_units, \n",
    "                                   activation=\"relu\", \n",
    "                                   name=\"hidden_layer\"+str(i+1))(x)\n",
    "            x = BatchNormalization()(x)\n",
    "    \n",
    "    out = keras.layers.Dense(units=output_units, activation=\"softmax\", name=\"output\")(x)\n",
    "    \n",
    "    model = keras.models.Model(inputs=[input_layer], outputs=[out])\n",
    "    return model"
   ]
  },
  {
   "cell_type": "code",
   "execution_count": 9,
   "metadata": {},
   "outputs": [],
   "source": [
    "LEARNING_RATE = 1e-3\n",
    "EPOCHS = 20\n",
    "BATCH_SIZE = 2\n",
    "MOMENTUM = 0.95"
   ]
  },
  {
   "cell_type": "code",
   "execution_count": 10,
   "metadata": {
    "scrolled": true
   },
   "outputs": [
    {
     "name": "stdout",
     "output_type": "stream",
     "text": [
      "WARNING:tensorflow:From C:\\Users\\USER\\Anaconda3\\lib\\site-packages\\tensorflow\\python\\framework\\op_def_library.py:263: colocate_with (from tensorflow.python.framework.ops) is deprecated and will be removed in a future version.\n",
      "Instructions for updating:\n",
      "Colocations handled automatically by placer.\n",
      "_________________________________________________________________\n",
      "Layer (type)                 Output Shape              Param #   \n",
      "=================================================================\n",
      "input_2 (InputLayer)         (None, 3072)              0         \n",
      "_________________________________________________________________\n",
      "hidden_layer1 (Dense)        (None, 512)               1573376   \n",
      "_________________________________________________________________\n",
      "batch_normalization_2 (Batch (None, 512)               2048      \n",
      "_________________________________________________________________\n",
      "hidden_layer2 (Dense)        (None, 256)               131328    \n",
      "_________________________________________________________________\n",
      "batch_normalization_3 (Batch (None, 256)               1024      \n",
      "_________________________________________________________________\n",
      "hidden_layer3 (Dense)        (None, 128)               32896     \n",
      "_________________________________________________________________\n",
      "batch_normalization_4 (Batch (None, 128)               512       \n",
      "_________________________________________________________________\n",
      "output (Dense)               (None, 10)                1290      \n",
      "=================================================================\n",
      "Total params: 1,742,474\n",
      "Trainable params: 1,740,682\n",
      "Non-trainable params: 1,792\n",
      "_________________________________________________________________\n",
      "WARNING:tensorflow:From C:\\Users\\USER\\Anaconda3\\lib\\site-packages\\tensorflow\\python\\ops\\math_ops.py:3066: to_int32 (from tensorflow.python.ops.math_ops) is deprecated and will be removed in a future version.\n",
      "Instructions for updating:\n",
      "Use tf.cast instead.\n",
      "Train on 50000 samples, validate on 10000 samples\n",
      "Epoch 1/20\n",
      "50000/50000 [==============================] - 456s 9ms/step - loss: 2.3070 - acc: 0.1499 - val_loss: 2.1477 - val_acc: 0.2213\n",
      "Epoch 2/20\n",
      "50000/50000 [==============================] - 440s 9ms/step - loss: 2.2332 - acc: 0.1688 - val_loss: 2.1502 - val_acc: 0.2100\n",
      "Epoch 3/20\n",
      "50000/50000 [==============================] - 458s 9ms/step - loss: 2.2259 - acc: 0.1724 - val_loss: 2.1983 - val_acc: 0.2038\n",
      "Epoch 4/20\n",
      "50000/50000 [==============================] - 473s 9ms/step - loss: 2.2283 - acc: 0.1678 - val_loss: 2.2081 - val_acc: 0.1789\n",
      "Epoch 5/20\n",
      "50000/50000 [==============================] - 472s 9ms/step - loss: 2.2285 - acc: 0.1670 - val_loss: 2.1737 - val_acc: 0.2169\n",
      "Epoch 6/20\n",
      "50000/50000 [==============================] - 460s 9ms/step - loss: 2.2199 - acc: 0.1696 - val_loss: 2.2307 - val_acc: 0.2191\n",
      "Epoch 7/20\n",
      "50000/50000 [==============================] - 451s 9ms/step - loss: 2.2240 - acc: 0.1688 - val_loss: 2.3462 - val_acc: 0.1852\n",
      "Epoch 8/20\n",
      "50000/50000 [==============================] - 499s 10ms/step - loss: 2.2351 - acc: 0.1642 - val_loss: 2.6609 - val_acc: 0.1741\n",
      "Epoch 9/20\n",
      "50000/50000 [==============================] - 552s 11ms/step - loss: 2.2400 - acc: 0.1634 - val_loss: 2.7082 - val_acc: 0.1891\n",
      "Epoch 10/20\n",
      "50000/50000 [==============================] - 444s 9ms/step - loss: 2.2338 - acc: 0.1646 - val_loss: 2.9308 - val_acc: 0.1830\n",
      "Epoch 11/20\n",
      "50000/50000 [==============================] - 429s 9ms/step - loss: 2.2365 - acc: 0.1645 - val_loss: 2.9693 - val_acc: 0.1814\n",
      "Epoch 12/20\n",
      "50000/50000 [==============================] - 453s 9ms/step - loss: 2.2391 - acc: 0.1571 - val_loss: 3.0316 - val_acc: 0.1954\n",
      "Epoch 13/20\n",
      "50000/50000 [==============================] - 446s 9ms/step - loss: 2.2434 - acc: 0.1570 - val_loss: 2.7727 - val_acc: 0.2183\n",
      "Epoch 14/20\n",
      "50000/50000 [==============================] - 544s 11ms/step - loss: 2.2367 - acc: 0.1679 - val_loss: 2.8194 - val_acc: 0.1819\n",
      "Epoch 15/20\n",
      "50000/50000 [==============================] - 542s 11ms/step - loss: 2.2353 - acc: 0.1705 - val_loss: 2.6368 - val_acc: 0.1909\n",
      "Epoch 16/20\n",
      "50000/50000 [==============================] - 536s 11ms/step - loss: 2.2407 - acc: 0.1684 - val_loss: 3.0356 - val_acc: 0.1442\n",
      "Epoch 17/20\n",
      "50000/50000 [==============================] - 448s 9ms/step - loss: 2.2476 - acc: 0.1603 - val_loss: 2.9425 - val_acc: 0.1711\n",
      "Epoch 18/20\n",
      "50000/50000 [==============================] - 456s 9ms/step - loss: 2.2484 - acc: 0.1593 - val_loss: 3.3838 - val_acc: 0.1617\n",
      "Epoch 19/20\n",
      "50000/50000 [==============================] - 447s 9ms/step - loss: 2.2561 - acc: 0.1561 - val_loss: 2.8095 - val_acc: 0.1413\n",
      "Epoch 20/20\n",
      "50000/50000 [==============================] - 460s 9ms/step - loss: 2.2518 - acc: 0.1556 - val_loss: 2.5247 - val_acc: 0.1617\n"
     ]
    }
   ],
   "source": [
    "results = {}\n",
    "model = build_mlp(input_shape=x_train.shape[1:])\n",
    "model.summary()\n",
    "optimizer = keras.optimizers.SGD(lr=LEARNING_RATE, nesterov=True, momentum=MOMENTUM)\n",
    "model.compile(loss=\"categorical_crossentropy\", metrics=[\"accuracy\"], optimizer=optimizer)\n",
    "\n",
    "model.fit(x_train, y_train, \n",
    "          epochs=EPOCHS, \n",
    "          batch_size=BATCH_SIZE, \n",
    "          validation_data=(x_test, y_test), \n",
    "          shuffle=True)\n",
    "\n",
    "# Collect results\n",
    "train_loss = model.history.history[\"loss\"]\n",
    "valid_loss = model.history.history[\"val_loss\"]\n",
    "train_acc = model.history.history[\"acc\"]\n",
    "valid_acc = model.history.history[\"val_acc\"]"
   ]
  },
  {
   "cell_type": "code",
   "execution_count": 11,
   "metadata": {},
   "outputs": [
    {
     "data": {
      "image/png": "[encoded data removed]",
      "text/plain": [
       "<Figure size 432x288 with 1 Axes>"
      ]
     },
     "metadata": {
      "needs_background": "light"
     },
     "output_type": "display_data"
    },
    {
     "data": {
      "image/png": "[encoded data removed]",
      "text/plain": [
       "<Figure size 432x288 with 1 Axes>"
      ]
     },
     "metadata": {
      "needs_background": "light"
     },
     "output_type": "display_data"
    }
   ],
   "source": [
    "import matplotlib.pyplot as plt\n",
    "%matplotlib inline\n",
    "plt.plot(range(len(train_loss)), train_loss, label=\"train loss\")\n",
    "plt.plot(range(len(valid_loss)), valid_loss, label=\"valid loss\")\n",
    "plt.legend()\n",
    "plt.title(\"Loss\")\n",
    "plt.show()\n",
    "\n",
    "plt.plot(range(len(train_acc)), train_acc, label=\"train accuracy\")\n",
    "plt.plot(range(len(valid_acc)), valid_acc, label=\"valid accuracy\")\n",
    "plt.legend()\n",
    "plt.title(\"Accuracy\")\n",
    "plt.show()"
   ]
  },
  {
   "cell_type": "code",
   "execution_count": null,
   "metadata": {},
   "outputs": [],
   "source": []
  }
 ],
 "metadata": {
  "kernelspec": {
   "display_name": "Python 3",
   "language": "python",
   "name": "python3"
  },
  "language_info": {
   "codemirror_mode": {
    "name": "ipython",
    "version": 3
   },
   "file_extension": ".py",
   "mimetype": "text/x-python",
   "name": "python",
   "nbconvert_exporter": "python",
   "pygments_lexer": "ipython3",
   "version": "3.7.3"
  }
 },
 "nbformat": 4,
 "nbformat_minor": 2
}
