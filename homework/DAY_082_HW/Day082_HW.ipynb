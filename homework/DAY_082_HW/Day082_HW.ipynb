{
 "cells": [
  {
   "cell_type": "markdown",
   "metadata": {},
   "source": [
    "## Work\n",
    "1. 請比較使用不同層數以及不同 Dropout rate 對訓練的效果\n",
    "2. 將 optimizer 改成使用 Adam 並加上適當的 dropout rate 檢視結果"
   ]
  },
  {
   "cell_type": "code",
   "execution_count": 1,
   "metadata": {},
   "outputs": [
    {
     "name": "stderr",
     "output_type": "stream",
     "text": [
      "Using TensorFlow backend.\n"
     ]
    }
   ],
   "source": [
    "import os\n",
    "import keras\n",
    "import itertools\n",
    "# Disable GPU\n",
    "os.environ[\"CUDA_VISIBLE_DEVICES\"] = \"\""
   ]
  },
  {
   "cell_type": "code",
   "execution_count": 2,
   "metadata": {},
   "outputs": [],
   "source": [
    "train, test = keras.datasets.cifar10.load_data()"
   ]
  },
  {
   "cell_type": "code",
   "execution_count": 3,
   "metadata": {},
   "outputs": [],
   "source": [
    "## 資料前處理\n",
    "def preproc_x(x, flatten=True):\n",
    "    x = x / 255.\n",
    "    if flatten:\n",
    "        x = x.reshape((len(x), -1))\n",
    "    return x\n",
    "\n",
    "def preproc_y(y, num_classes=10):\n",
    "    if y.shape[-1] == 1:\n",
    "        y = keras.utils.to_categorical(y, num_classes)\n",
    "    return y    "
   ]
  },
  {
   "cell_type": "code",
   "execution_count": 4,
   "metadata": {},
   "outputs": [],
   "source": [
    "x_train, y_train = train\n",
    "x_test, y_test = test\n",
    "\n",
    "# Preproc the inputs\n",
    "x_train = preproc_x(x_train)\n",
    "x_test = preproc_x(x_test)\n",
    "\n",
    "# Preprc the outputs\n",
    "y_train = preproc_y(y_train)\n",
    "y_test = preproc_y(y_test)"
   ]
  },
  {
   "cell_type": "code",
   "execution_count": 5,
   "metadata": {},
   "outputs": [],
   "source": [
    "from keras.layers import Dropout\n",
    "def build_mlp(input_shape, output_units=10, num_neurons=[512, 256, 128], drp_ratio=0.2):\n",
    "    input_layer = keras.layers.Input(input_shape)\n",
    "    \n",
    "    for i, n_units in enumerate(num_neurons):\n",
    "        if i == 0:\n",
    "            x = keras.layers.Dense(units=n_units, \n",
    "                                   activation=\"relu\", \n",
    "                                   name=\"hidden_layer\"+str(i+1))(input_layer)\n",
    "            x = Dropout(drp_ratio)(x)\n",
    "        else:\n",
    "            x = keras.layers.Dense(units=n_units, \n",
    "                                   activation=\"relu\", \n",
    "                                   name=\"hidden_layer\"+str(i+1))(x)\n",
    "            x = Dropout(drp_ratio)(x)\n",
    "    \n",
    "    out = keras.layers.Dense(units=output_units, activation=\"softmax\", name=\"output\")(x)\n",
    "    \n",
    "    model = keras.models.Model(inputs=[input_layer], outputs=[out])\n",
    "    return model"
   ]
  },
  {
   "cell_type": "code",
   "execution_count": 6,
   "metadata": {},
   "outputs": [],
   "source": [
    "\"\"\"Code Here\n",
    "設定超參數\n",
    "\"\"\"\n",
    "LEARNING_RATE = 1e-3\n",
    "EPOCHS = 30\n",
    "BATCH_SIZE = 256\n",
    "MOMENTUM = 0.95\n",
    "Dropout_EXP = 0.15"
   ]
  },
  {
   "cell_type": "code",
   "execution_count": 7,
   "metadata": {
    "scrolled": true
   },
   "outputs": [
    {
     "name": "stdout",
     "output_type": "stream",
     "text": [
      "WARNING:tensorflow:From C:\\Users\\USER\\Anaconda3\\lib\\site-packages\\tensorflow\\python\\framework\\op_def_library.py:263: colocate_with (from tensorflow.python.framework.ops) is deprecated and will be removed in a future version.\n",
      "Instructions for updating:\n",
      "Colocations handled automatically by placer.\n",
      "WARNING:tensorflow:From C:\\Users\\USER\\Anaconda3\\lib\\site-packages\\keras\\backend\\tensorflow_backend.py:3445: calling dropout (from tensorflow.python.ops.nn_ops) with keep_prob is deprecated and will be removed in a future version.\n",
      "Instructions for updating:\n",
      "Please use `rate` instead of `keep_prob`. Rate should be set to `rate = 1 - keep_prob`.\n",
      "_________________________________________________________________\n",
      "Layer (type)                 Output Shape              Param #   \n",
      "=================================================================\n",
      "input_1 (InputLayer)         (None, 3072)              0         \n",
      "_________________________________________________________________\n",
      "hidden_layer1 (Dense)        (None, 512)               1573376   \n",
      "_________________________________________________________________\n",
      "dropout_1 (Dropout)          (None, 512)               0         \n",
      "_________________________________________________________________\n",
      "hidden_layer2 (Dense)        (None, 256)               131328    \n",
      "_________________________________________________________________\n",
      "dropout_2 (Dropout)          (None, 256)               0         \n",
      "_________________________________________________________________\n",
      "hidden_layer3 (Dense)        (None, 128)               32896     \n",
      "_________________________________________________________________\n",
      "dropout_3 (Dropout)          (None, 128)               0         \n",
      "_________________________________________________________________\n",
      "output (Dense)               (None, 10)                1290      \n",
      "=================================================================\n",
      "Total params: 1,738,890\n",
      "Trainable params: 1,738,890\n",
      "Non-trainable params: 0\n",
      "_________________________________________________________________\n",
      "WARNING:tensorflow:From C:\\Users\\USER\\Anaconda3\\lib\\site-packages\\tensorflow\\python\\ops\\math_ops.py:3066: to_int32 (from tensorflow.python.ops.math_ops) is deprecated and will be removed in a future version.\n",
      "Instructions for updating:\n",
      "Use tf.cast instead.\n",
      "Train on 50000 samples, validate on 10000 samples\n",
      "Epoch 1/30\n",
      "50000/50000 [==============================] - 15s 300us/step - loss: 2.0035 - acc: 0.2627 - val_loss: 1.7802 - val_acc: 0.3600\n",
      "Epoch 2/30\n",
      "50000/50000 [==============================] - 14s 285us/step - loss: 1.8090 - acc: 0.3477 - val_loss: 1.6772 - val_acc: 0.4014\n",
      "Epoch 3/30\n",
      "50000/50000 [==============================] - 14s 282us/step - loss: 1.7304 - acc: 0.3770 - val_loss: 1.6528 - val_acc: 0.4134\n",
      "Epoch 4/30\n",
      "50000/50000 [==============================] - 16s 312us/step - loss: 1.6897 - acc: 0.3929 - val_loss: 1.5915 - val_acc: 0.4291\n",
      "Epoch 5/30\n",
      "50000/50000 [==============================] - 15s 300us/step - loss: 1.6461 - acc: 0.4100 - val_loss: 1.5776 - val_acc: 0.4430\n",
      "Epoch 6/30\n",
      "50000/50000 [==============================] - 17s 338us/step - loss: 1.6192 - acc: 0.4180 - val_loss: 1.5385 - val_acc: 0.4569\n",
      "Epoch 7/30\n",
      "50000/50000 [==============================] - 14s 287us/step - loss: 1.5885 - acc: 0.4314 - val_loss: 1.5155 - val_acc: 0.4590\n",
      "Epoch 8/30\n",
      "50000/50000 [==============================] - 13s 260us/step - loss: 1.5645 - acc: 0.4370 - val_loss: 1.5271 - val_acc: 0.4519\n",
      "Epoch 9/30\n",
      "50000/50000 [==============================] - 14s 279us/step - loss: 1.5501 - acc: 0.4448 - val_loss: 1.4893 - val_acc: 0.4716\n",
      "Epoch 10/30\n",
      "50000/50000 [==============================] - 14s 287us/step - loss: 1.5363 - acc: 0.4466 - val_loss: 1.4948 - val_acc: 0.4614\n",
      "Epoch 11/30\n",
      "50000/50000 [==============================] - 14s 279us/step - loss: 1.5185 - acc: 0.4564 - val_loss: 1.4802 - val_acc: 0.4710\n",
      "Epoch 12/30\n",
      "50000/50000 [==============================] - 14s 290us/step - loss: 1.5103 - acc: 0.4556 - val_loss: 1.4622 - val_acc: 0.4798\n",
      "Epoch 13/30\n",
      "50000/50000 [==============================] - 15s 303us/step - loss: 1.4891 - acc: 0.4659 - val_loss: 1.4621 - val_acc: 0.4836\n",
      "Epoch 14/30\n",
      "50000/50000 [==============================] - 14s 271us/step - loss: 1.4777 - acc: 0.4674 - val_loss: 1.4311 - val_acc: 0.4823\n",
      "Epoch 15/30\n",
      "50000/50000 [==============================] - 13s 260us/step - loss: 1.4683 - acc: 0.4740 - val_loss: 1.4381 - val_acc: 0.4869\n",
      "Epoch 16/30\n",
      "50000/50000 [==============================] - 13s 263us/step - loss: 1.4525 - acc: 0.4792 - val_loss: 1.4095 - val_acc: 0.4981\n",
      "Epoch 17/30\n",
      "50000/50000 [==============================] - 15s 296us/step - loss: 1.4486 - acc: 0.4794 - val_loss: 1.4322 - val_acc: 0.4909\n",
      "Epoch 18/30\n",
      "50000/50000 [==============================] - 14s 289us/step - loss: 1.4361 - acc: 0.4839 - val_loss: 1.4103 - val_acc: 0.4952\n",
      "Epoch 19/30\n",
      "50000/50000 [==============================] - 13s 260us/step - loss: 1.4255 - acc: 0.4899 - val_loss: 1.4311 - val_acc: 0.4770\n",
      "Epoch 20/30\n",
      "50000/50000 [==============================] - 14s 288us/step - loss: 1.4188 - acc: 0.4908 - val_loss: 1.3926 - val_acc: 0.5022\n",
      "Epoch 21/30\n",
      "50000/50000 [==============================] - 15s 307us/step - loss: 1.4154 - acc: 0.4906 - val_loss: 1.4074 - val_acc: 0.5015\n",
      "Epoch 22/30\n",
      "50000/50000 [==============================] - 14s 272us/step - loss: 1.3989 - acc: 0.4967 - val_loss: 1.4070 - val_acc: 0.4992\n",
      "Epoch 23/30\n",
      "50000/50000 [==============================] - 13s 262us/step - loss: 1.3878 - acc: 0.5012 - val_loss: 1.3795 - val_acc: 0.5039\n",
      "Epoch 24/30\n",
      "50000/50000 [==============================] - 15s 307us/step - loss: 1.3918 - acc: 0.4971 - val_loss: 1.3734 - val_acc: 0.5089\n",
      "Epoch 25/30\n",
      "50000/50000 [==============================] - 15s 293us/step - loss: 1.3791 - acc: 0.5058 - val_loss: 1.3719 - val_acc: 0.5105\n",
      "Epoch 26/30\n",
      "50000/50000 [==============================] - 15s 293us/step - loss: 1.3754 - acc: 0.5049 - val_loss: 1.3659 - val_acc: 0.5112\n",
      "Epoch 27/30\n",
      "50000/50000 [==============================] - 14s 271us/step - loss: 1.3653 - acc: 0.5095 - val_loss: 1.3806 - val_acc: 0.5112\n",
      "Epoch 28/30\n",
      "50000/50000 [==============================] - 14s 274us/step - loss: 1.3675 - acc: 0.5084 - val_loss: 1.3726 - val_acc: 0.5120\n",
      "Epoch 29/30\n",
      "50000/50000 [==============================] - 14s 278us/step - loss: 1.3508 - acc: 0.5157 - val_loss: 1.3913 - val_acc: 0.4997\n",
      "Epoch 30/30\n",
      "50000/50000 [==============================] - 15s 292us/step - loss: 1.3597 - acc: 0.5123 - val_loss: 1.3684 - val_acc: 0.5157\n"
     ]
    }
   ],
   "source": [
    "results = {}\n",
    "\"\"\"Code Here\n",
    "撰寫你的訓練流程並將結果用 dictionary 紀錄\n",
    "\"\"\"\n",
    "model = build_mlp(input_shape=x_train.shape[1:], drp_ratio=Dropout_EXP)\n",
    "model.summary()\n",
    "optimizer = keras.optimizers.Adam(lr=LEARNING_RATE, beta_1=0.9, beta_2=0.999, epsilon=None, decay=0.0, amsgrad=False)\n",
    "model.compile(loss=\"categorical_crossentropy\", metrics=[\"accuracy\"], optimizer=optimizer)\n",
    "\n",
    "model.fit(x_train, y_train, \n",
    "          epochs=EPOCHS, \n",
    "          batch_size=BATCH_SIZE, \n",
    "          validation_data=(x_test, y_test), \n",
    "          shuffle=True)\n",
    "\n",
    "# Collect results\n",
    "train_loss = model.history.history[\"loss\"]\n",
    "valid_loss = model.history.history[\"val_loss\"]\n",
    "train_acc = model.history.history[\"acc\"]\n",
    "valid_acc = model.history.history[\"val_acc\"]"
   ]
  },
  {
   "cell_type": "code",
   "execution_count": 8,
   "metadata": {},
   "outputs": [
    {
     "data": {
      "image/png": "[encoded data removed]",
      "text/plain": [
       "<Figure size 432x288 with 1 Axes>"
      ]
     },
     "metadata": {
      "needs_background": "light"
     },
     "output_type": "display_data"
    },
    {
     "data": {
      "image/png": "[encoded data removed]",
      "text/plain": [
       "<Figure size 432x288 with 1 Axes>"
      ]
     },
     "metadata": {
      "needs_background": "light"
     },
     "output_type": "display_data"
    }
   ],
   "source": [
    "import matplotlib.pyplot as plt\n",
    "%matplotlib inline\n",
    "\n",
    "plt.plot(range(len(train_loss)), train_loss, label=\"train loss\")\n",
    "plt.plot(range(len(valid_loss)), valid_loss, label=\"valid loss\")\n",
    "plt.legend()\n",
    "plt.title(\"Loss\")\n",
    "plt.show()\n",
    "\n",
    "plt.plot(range(len(train_acc)), train_acc, label=\"train accuracy\")\n",
    "plt.plot(range(len(valid_acc)), valid_acc, label=\"valid accuracy\")\n",
    "plt.legend()\n",
    "plt.title(\"Accuracy\")\n",
    "plt.show()"
   ]
  }
 ],
 "metadata": {
  "kernelspec": {
   "display_name": "Python 3",
   "language": "python",
   "name": "python3"
  },
  "language_info": {
   "codemirror_mode": {
    "name": "ipython",
    "version": 3
   },
   "file_extension": ".py",
   "mimetype": "text/x-python",
   "name": "python",
   "nbconvert_exporter": "python",
   "pygments_lexer": "ipython3",
   "version": "3.7.3"
  }
 },
 "nbformat": 4,
 "nbformat_minor": 2
}
