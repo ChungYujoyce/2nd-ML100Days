{
 "cells": [
  {
   "cell_type": "markdown",
   "metadata": {},
   "source": [
    "## Work\n",
    "1. 試比較 save_best_only 與否的差異\n",
    "2. 請僅存入將 save_weights_only 設定為 True, 並嘗試 reset ipynb 並將模型與權重重新建回並預測 x_test"
   ]
  },
  {
   "cell_type": "code",
   "execution_count": 1,
   "metadata": {},
   "outputs": [
    {
     "name": "stderr",
     "output_type": "stream",
     "text": [
      "Using TensorFlow backend.\n"
     ]
    }
   ],
   "source": [
    "import os\n",
    "import keras\n",
    "\n",
    "# Disable GPU\n",
    "os.environ[\"CUDA_VISIBLE_DEVICES\"] = \"\""
   ]
  },
  {
   "cell_type": "code",
   "execution_count": 2,
   "metadata": {},
   "outputs": [],
   "source": [
    "train, test = keras.datasets.cifar10.load_data()"
   ]
  },
  {
   "cell_type": "code",
   "execution_count": 3,
   "metadata": {},
   "outputs": [],
   "source": [
    "## 資料前處理\n",
    "def preproc_x(x, flatten=True):\n",
    "    x = x / 255.\n",
    "    if flatten:\n",
    "        x = x.reshape((len(x), -1))\n",
    "    return x\n",
    "\n",
    "def preproc_y(y, num_classes=10):\n",
    "    if y.shape[-1] == 1:\n",
    "        y = keras.utils.to_categorical(y, num_classes)\n",
    "    return y    "
   ]
  },
  {
   "cell_type": "code",
   "execution_count": 4,
   "metadata": {},
   "outputs": [],
   "source": [
    "x_train, y_train = train\n",
    "x_test, y_test = test\n",
    "\n",
    "# Preproc the inputs\n",
    "x_train = preproc_x(x_train)\n",
    "x_test = preproc_x(x_test)\n",
    "\n",
    "# Preprc the outputs\n",
    "y_train = preproc_y(y_train)\n",
    "y_test = preproc_y(y_test)"
   ]
  },
  {
   "cell_type": "code",
   "execution_count": 5,
   "metadata": {},
   "outputs": [],
   "source": [
    "from keras.layers import BatchNormalization\n",
    "\n",
    "\"\"\"\n",
    "建立神經網路，並加入 BN layer\n",
    "\"\"\"\n",
    "def build_mlp(input_shape, output_units=10, num_neurons=[512, 256, 128]):\n",
    "    input_layer = keras.layers.Input(input_shape)\n",
    "    \n",
    "    for i, n_units in enumerate(num_neurons):\n",
    "        if i == 0:\n",
    "            x = keras.layers.Dense(units=n_units, \n",
    "                                   activation=\"relu\", \n",
    "                                   name=\"hidden_layer\"+str(i+1))(input_layer)\n",
    "            x = BatchNormalization()(x)\n",
    "        else:\n",
    "            x = keras.layers.Dense(units=n_units, \n",
    "                                   activation=\"relu\", \n",
    "                                   name=\"hidden_layer\"+str(i+1))(x)\n",
    "            x = BatchNormalization()(x)\n",
    "    \n",
    "    out = keras.layers.Dense(units=output_units, activation=\"softmax\", name=\"output\")(x)\n",
    "    \n",
    "    model = keras.models.Model(inputs=[input_layer], outputs=[out])\n",
    "    return model"
   ]
  },
  {
   "cell_type": "code",
   "execution_count": 6,
   "metadata": {},
   "outputs": [],
   "source": [
    "\"\"\"Code Here\n",
    "設定超參數\n",
    "\"\"\"\n",
    "LEARNING_RATE = 1e-3\n",
    "EPOCHS = 50\n",
    "BATCH_SIZE = 1024\n",
    "MOMENTUM = 0.95"
   ]
  },
  {
   "cell_type": "code",
   "execution_count": 7,
   "metadata": {
    "scrolled": false
   },
   "outputs": [
    {
     "name": "stdout",
     "output_type": "stream",
     "text": [
      "WARNING:tensorflow:From C:\\Users\\USER\\Anaconda3\\lib\\site-packages\\tensorflow\\python\\framework\\op_def_library.py:263: colocate_with (from tensorflow.python.framework.ops) is deprecated and will be removed in a future version.\n",
      "Instructions for updating:\n",
      "Colocations handled automatically by placer.\n",
      "_________________________________________________________________\n",
      "Layer (type)                 Output Shape              Param #   \n",
      "=================================================================\n",
      "input_1 (InputLayer)         (None, 3072)              0         \n",
      "_________________________________________________________________\n",
      "hidden_layer1 (Dense)        (None, 512)               1573376   \n",
      "_________________________________________________________________\n",
      "batch_normalization_1 (Batch (None, 512)               2048      \n",
      "_________________________________________________________________\n",
      "hidden_layer2 (Dense)        (None, 256)               131328    \n",
      "_________________________________________________________________\n",
      "batch_normalization_2 (Batch (None, 256)               1024      \n",
      "_________________________________________________________________\n",
      "hidden_layer3 (Dense)        (None, 128)               32896     \n",
      "_________________________________________________________________\n",
      "batch_normalization_3 (Batch (None, 128)               512       \n",
      "_________________________________________________________________\n",
      "output (Dense)               (None, 10)                1290      \n",
      "=================================================================\n",
      "Total params: 1,742,474\n",
      "Trainable params: 1,740,682\n",
      "Non-trainable params: 1,792\n",
      "_________________________________________________________________\n",
      "WARNING:tensorflow:From C:\\Users\\USER\\Anaconda3\\lib\\site-packages\\tensorflow\\python\\ops\\math_ops.py:3066: to_int32 (from tensorflow.python.ops.math_ops) is deprecated and will be removed in a future version.\n",
      "Instructions for updating:\n",
      "Use tf.cast instead.\n",
      "Train on 50000 samples, validate on 10000 samples\n",
      "Epoch 1/50\n",
      "50000/50000 [==============================] - 10s 198us/step - loss: 2.2035 - acc: 0.2717 - val_loss: 2.1980 - val_acc: 0.3072\n",
      "Epoch 2/50\n",
      "50000/50000 [==============================] - 9s 171us/step - loss: 1.7298 - acc: 0.3967 - val_loss: 1.7699 - val_acc: 0.3875\n",
      "Epoch 3/50\n",
      "50000/50000 [==============================] - 9s 173us/step - loss: 1.6068 - acc: 0.4383 - val_loss: 1.6834 - val_acc: 0.4130\n",
      "Epoch 4/50\n",
      "50000/50000 [==============================] - 8s 169us/step - loss: 1.5359 - acc: 0.4643 - val_loss: 1.6309 - val_acc: 0.4324\n",
      "Epoch 5/50\n",
      "50000/50000 [==============================] - 9s 171us/step - loss: 1.4805 - acc: 0.4842 - val_loss: 1.5822 - val_acc: 0.4456\n",
      "Epoch 6/50\n",
      "50000/50000 [==============================] - 9s 170us/step - loss: 1.4372 - acc: 0.4998 - val_loss: 1.5500 - val_acc: 0.4556\n",
      "Epoch 7/50\n",
      "50000/50000 [==============================] - 8s 170us/step - loss: 1.3982 - acc: 0.5144 - val_loss: 1.5374 - val_acc: 0.4636\n",
      "Epoch 8/50\n",
      "50000/50000 [==============================] - 9s 180us/step - loss: 1.3638 - acc: 0.5271 - val_loss: 1.5239 - val_acc: 0.4682\n",
      "Epoch 9/50\n",
      "50000/50000 [==============================] - 10s 198us/step - loss: 1.3314 - acc: 0.5378 - val_loss: 1.5110 - val_acc: 0.4742\n",
      "Epoch 10/50\n",
      "50000/50000 [==============================] - 10s 197us/step - loss: 1.3010 - acc: 0.5483 - val_loss: 1.4939 - val_acc: 0.4763\n",
      "Epoch 11/50\n",
      "50000/50000 [==============================] - 10s 210us/step - loss: 1.2736 - acc: 0.5594 - val_loss: 1.5053 - val_acc: 0.4763\n",
      "Epoch 12/50\n",
      "50000/50000 [==============================] - 10s 192us/step - loss: 1.2474 - acc: 0.5692 - val_loss: 1.4799 - val_acc: 0.4814\n",
      "Epoch 13/50\n",
      "50000/50000 [==============================] - 9s 188us/step - loss: 1.2197 - acc: 0.5794 - val_loss: 1.4805 - val_acc: 0.4799\n",
      "Epoch 14/50\n",
      "50000/50000 [==============================] - 9s 185us/step - loss: 1.1952 - acc: 0.5883 - val_loss: 1.4827 - val_acc: 0.4835\n",
      "Epoch 15/50\n",
      "50000/50000 [==============================] - 8s 169us/step - loss: 1.1718 - acc: 0.5975 - val_loss: 1.4649 - val_acc: 0.4921\n",
      "Epoch 16/50\n",
      "50000/50000 [==============================] - 9s 172us/step - loss: 1.1486 - acc: 0.6043 - val_loss: 1.4676 - val_acc: 0.4848\n",
      "Epoch 17/50\n",
      "50000/50000 [==============================] - 10s 200us/step - loss: 1.1234 - acc: 0.6152 - val_loss: 1.4595 - val_acc: 0.4870\n",
      "Epoch 18/50\n",
      "50000/50000 [==============================] - 9s 187us/step - loss: 1.1012 - acc: 0.6233 - val_loss: 1.4626 - val_acc: 0.4917\n",
      "Epoch 19/50\n",
      "50000/50000 [==============================] - 10s 194us/step - loss: 1.0783 - acc: 0.6327 - val_loss: 1.4609 - val_acc: 0.4910\n",
      "Epoch 20/50\n",
      "50000/50000 [==============================] - 9s 183us/step - loss: 1.0567 - acc: 0.6407 - val_loss: 1.4852 - val_acc: 0.4836\n",
      "Epoch 21/50\n",
      "50000/50000 [==============================] - 10s 190us/step - loss: 1.0354 - acc: 0.6496 - val_loss: 1.4647 - val_acc: 0.4896\n",
      "Epoch 22/50\n",
      "50000/50000 [==============================] - 10s 208us/step - loss: 1.0137 - acc: 0.6566 - val_loss: 1.4698 - val_acc: 0.4876\n",
      "Epoch 23/50\n",
      "50000/50000 [==============================] - 10s 209us/step - loss: 0.9930 - acc: 0.6655 - val_loss: 1.4772 - val_acc: 0.4868\n",
      "Epoch 24/50\n",
      "50000/50000 [==============================] - 9s 187us/step - loss: 0.9730 - acc: 0.6732 - val_loss: 1.4709 - val_acc: 0.4907\n",
      "Epoch 25/50\n",
      "50000/50000 [==============================] - 9s 189us/step - loss: 0.9507 - acc: 0.6819 - val_loss: 1.4644 - val_acc: 0.4923\n",
      "Epoch 26/50\n",
      "50000/50000 [==============================] - 10s 191us/step - loss: 0.9288 - acc: 0.6902 - val_loss: 1.4801 - val_acc: 0.4941\n",
      "Epoch 27/50\n",
      "50000/50000 [==============================] - 10s 192us/step - loss: 0.9082 - acc: 0.6982 - val_loss: 1.4903 - val_acc: 0.4895\n",
      "Epoch 28/50\n",
      "50000/50000 [==============================] - 9s 178us/step - loss: 0.8899 - acc: 0.7045 - val_loss: 1.4830 - val_acc: 0.4925\n",
      "Epoch 29/50\n",
      "50000/50000 [==============================] - 10s 199us/step - loss: 0.8703 - acc: 0.7137 - val_loss: 1.4852 - val_acc: 0.4911\n",
      "Epoch 30/50\n",
      "50000/50000 [==============================] - 9s 187us/step - loss: 0.8477 - acc: 0.7208 - val_loss: 1.4967 - val_acc: 0.4946\n",
      "Epoch 31/50\n",
      "50000/50000 [==============================] - 9s 189us/step - loss: 0.8282 - acc: 0.7287 - val_loss: 1.5066 - val_acc: 0.4902\n",
      "Epoch 32/50\n",
      "50000/50000 [==============================] - 10s 206us/step - loss: 0.8085 - acc: 0.7361 - val_loss: 1.5214 - val_acc: 0.4840\n",
      "Epoch 33/50\n",
      "50000/50000 [==============================] - 9s 190us/step - loss: 0.7880 - acc: 0.7456 - val_loss: 1.5335 - val_acc: 0.4869\n",
      "Epoch 34/50\n",
      "50000/50000 [==============================] - 10s 198us/step - loss: 0.7673 - acc: 0.7537 - val_loss: 1.5081 - val_acc: 0.4915\n",
      "Epoch 35/50\n",
      "50000/50000 [==============================] - 9s 189us/step - loss: 0.7487 - acc: 0.7596 - val_loss: 1.5257 - val_acc: 0.4917\n",
      "Epoch 36/50\n",
      "50000/50000 [==============================] - 9s 186us/step - loss: 0.7312 - acc: 0.7677 - val_loss: 1.5559 - val_acc: 0.4856\n",
      "Epoch 37/50\n",
      "50000/50000 [==============================] - 9s 188us/step - loss: 0.7107 - acc: 0.7741 - val_loss: 1.5480 - val_acc: 0.4899\n",
      "Epoch 38/50\n",
      "50000/50000 [==============================] - 10s 194us/step - loss: 0.6910 - acc: 0.7824 - val_loss: 1.5565 - val_acc: 0.4915\n",
      "Epoch 39/50\n",
      "50000/50000 [==============================] - 9s 174us/step - loss: 0.6719 - acc: 0.7908 - val_loss: 1.5690 - val_acc: 0.4886\n",
      "Epoch 40/50\n",
      "50000/50000 [==============================] - 9s 189us/step - loss: 0.6529 - acc: 0.7977 - val_loss: 1.5706 - val_acc: 0.4970\n",
      "Epoch 41/50\n",
      "50000/50000 [==============================] - 10s 192us/step - loss: 0.6343 - acc: 0.8063 - val_loss: 1.6037 - val_acc: 0.4913\n",
      "Epoch 42/50\n",
      "50000/50000 [==============================] - 10s 192us/step - loss: 0.6166 - acc: 0.8129 - val_loss: 1.5880 - val_acc: 0.4927\n",
      "Epoch 43/50\n",
      "50000/50000 [==============================] - 10s 196us/step - loss: 0.5984 - acc: 0.8192 - val_loss: 1.6132 - val_acc: 0.4907\n",
      "Epoch 44/50\n",
      "50000/50000 [==============================] - 10s 195us/step - loss: 0.5817 - acc: 0.8276 - val_loss: 1.6317 - val_acc: 0.4860\n",
      "Epoch 45/50\n"
     ]
    },
    {
     "name": "stdout",
     "output_type": "stream",
     "text": [
      "50000/50000 [==============================] - 10s 194us/step - loss: 0.5611 - acc: 0.8350 - val_loss: 1.6250 - val_acc: 0.4907\n",
      "Epoch 46/50\n",
      "50000/50000 [==============================] - 9s 189us/step - loss: 0.5446 - acc: 0.8428 - val_loss: 1.6481 - val_acc: 0.4863\n",
      "Epoch 47/50\n",
      "50000/50000 [==============================] - 9s 179us/step - loss: 0.5282 - acc: 0.8500 - val_loss: 1.6530 - val_acc: 0.4834\n",
      "Epoch 48/50\n",
      "50000/50000 [==============================] - 9s 178us/step - loss: 0.5129 - acc: 0.8554 - val_loss: 1.7024 - val_acc: 0.4875\n",
      "Epoch 49/50\n",
      "50000/50000 [==============================] - 9s 179us/step - loss: 0.4945 - acc: 0.8632 - val_loss: 1.6754 - val_acc: 0.4884\n",
      "Epoch 50/50\n",
      "50000/50000 [==============================] - 9s 185us/step - loss: 0.4794 - acc: 0.8689 - val_loss: 1.6847 - val_acc: 0.4876\n",
      "10000/10000 [==============================] - 2s 156us/step\n"
     ]
    }
   ],
   "source": [
    "# 載入 Callbacks\n",
    "\"\"\"Code Here\n",
    "設定 callbacks: model checkpoint\n",
    "\"\"\"\n",
    "from keras.callbacks import ModelCheckpoint\n",
    "\n",
    "model_ckpt = ModelCheckpoint(filepath=\"./tmp.h5\", \n",
    "                             monitor=\"val_loss\", \n",
    "                             save_best_only=True)\n",
    "results = {}\n",
    "model = build_mlp(input_shape=x_train.shape[1:])\n",
    "model.summary()\n",
    "optimizer = keras.optimizers.SGD(lr=LEARNING_RATE, nesterov=True, momentum=MOMENTUM)\n",
    "model.compile(loss=\"categorical_crossentropy\", metrics=[\"accuracy\"], optimizer=optimizer)\n",
    "\n",
    "model.fit(x_train, y_train, \n",
    "          epochs=EPOCHS, \n",
    "          batch_size=BATCH_SIZE, \n",
    "          validation_data=(x_test, y_test), \n",
    "          shuffle=True,\n",
    "          callbacks=[model_ckpt]\n",
    "         )\n",
    "\n",
    "# Collect results\n",
    "train_loss = model.history.history[\"loss\"]\n",
    "valid_loss = model.history.history[\"val_loss\"]\n",
    "train_acc = model.history.history[\"acc\"]\n",
    "valid_acc = model.history.history[\"val_acc\"]\n",
    "\n",
    "# Load back\n",
    "model = keras.models.load_model(\"./tmp.h5\")\n",
    "loss_loadback, acc_loadback = model.evaluate(x_test, y_test)"
   ]
  },
  {
   "cell_type": "code",
   "execution_count": 8,
   "metadata": {
    "scrolled": true
   },
   "outputs": [
    {
     "data": {
      "image/png": "[encoded data removed]",
      "text/plain": [
       "<Figure size 432x288 with 1 Axes>"
      ]
     },
     "metadata": {
      "needs_background": "light"
     },
     "output_type": "display_data"
    },
    {
     "data": {
      "image/png": "[encoded data removed]",
      "text/plain": [
       "<Figure size 432x288 with 1 Axes>"
      ]
     },
     "metadata": {
      "needs_background": "light"
     },
     "output_type": "display_data"
    }
   ],
   "source": [
    "import matplotlib.pyplot as plt\n",
    "%matplotlib inline\n",
    "\n",
    "plt.plot(range(len(train_loss)), train_loss, label=\"train loss\")\n",
    "plt.plot(range(len(valid_loss)), valid_loss, label=\"valid loss\")\n",
    "plt.hlines(y=loss_loadback, xmin=0, xmax=len(train_loss), colors='r', linestyles='--')\n",
    "plt.legend()\n",
    "plt.title(\"Loss\")\n",
    "plt.show()\n",
    "\n",
    "plt.plot(range(len(train_acc)), train_acc, label=\"train accuracy\")\n",
    "plt.plot(range(len(valid_acc)), valid_acc, label=\"valid accuracy\")\n",
    "plt.hlines(y=acc_loadback, xmin=0, xmax=len(train_loss), colors='r', linestyles='--')\n",
    "plt.legend()\n",
    "plt.title(\"Accuracy\")\n",
    "plt.show()"
   ]
  }
 ],
 "metadata": {
  "kernelspec": {
   "display_name": "Python 3",
   "language": "python",
   "name": "python3"
  },
  "language_info": {
   "codemirror_mode": {
    "name": "ipython",
    "version": 3
   },
   "file_extension": ".py",
   "mimetype": "text/x-python",
   "name": "python",
   "nbconvert_exporter": "python",
   "pygments_lexer": "ipython3",
   "version": "3.7.3"
  }
 },
 "nbformat": 4,
 "nbformat_minor": 2
}
